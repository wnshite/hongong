{
 "cells": [
  {
   "cell_type": "code",
   "execution_count": null,
   "id": "a0d05da3-906a-459d-82d1-de11952c1a98",
   "metadata": {},
   "outputs": [],
   "source": [
    "#로지스틱 회귀"
   ]
  },
  {
   "cell_type": "code",
   "execution_count": null,
   "id": "73164a41-e194-4528-aa96-e65c0ff6b0f0",
   "metadata": {},
   "outputs": [],
   "source": [
    "import pandas as pd\n",
    "\n",
    "df = pd.read_csv('data/Fish.csv')\n",
    "df"
   ]
  },
  {
   "cell_type": "code",
   "execution_count": null,
   "id": "c214084c-b9ba-4cd3-b243-6857df2632d6",
   "metadata": {},
   "outputs": [],
   "source": [
    "smelt_df = df.loc[df['Species'] == 'Smelt']\n",
    "\n",
    "smelt_length = smelt_df['Length1'].tolist()\n",
    "smelt_height = smelt_df['Height'].tolist()"
   ]
  },
  {
   "cell_type": "code",
   "execution_count": null,
   "id": "92aff2e0-38e2-43f1-9185-dee8dca41f3a",
   "metadata": {},
   "outputs": [],
   "source": [
    "smelt_height"
   ]
  },
  {
   "cell_type": "code",
   "execution_count": null,
   "id": "34a967ca-c05a-4a25-b719-185884498421",
   "metadata": {},
   "outputs": [],
   "source": [
    "import matplotlib.pyplot as plt\n",
    "\n",
    "plt.scatter(smelt_length, smelt_height)"
   ]
  },
  {
   "cell_type": "code",
   "execution_count": null,
   "id": "7a235cda-392a-45dd-9acc-c69831954e42",
   "metadata": {},
   "outputs": [],
   "source": [
    "bream_df = df.loc[df['Species'] == 'Bream']\n",
    "\n",
    "bream_length = bream_df['Length1'].tolist()\n",
    "bream_height = bream_df['Height'].tolist()"
   ]
  },
  {
   "cell_type": "code",
   "execution_count": null,
   "id": "6b3b4ec3-0b0a-470f-8c94-2a47b4776f0a",
   "metadata": {},
   "outputs": [],
   "source": [
    "plt.scatter(bream_length, bream_height)\n",
    "plt.scatter(smelt_length, smelt_height)"
   ]
  },
  {
   "cell_type": "code",
   "execution_count": null,
   "id": "74c2d6da-9153-4217-b05b-dca17c212296",
   "metadata": {},
   "outputs": [],
   "source": [
    "length = smelt_length + bream_length\n",
    "height = smelt_height + bream_height"
   ]
  },
  {
   "cell_type": "code",
   "execution_count": null,
   "id": "d2b083b3-a86e-4be7-ac2c-a0959c1b7477",
   "metadata": {},
   "outputs": [],
   "source": [
    "list(zip(length, height))"
   ]
  },
  {
   "cell_type": "code",
   "execution_count": null,
   "id": "0993cf66-5467-4322-b14d-22dba300c0f0",
   "metadata": {},
   "outputs": [],
   "source": [
    "# zip 으로 묶었다면 정답 작성\n",
    "\n",
    "fish_target = [1] * len(smelt_height) + [0] * len(bream_height)"
   ]
  },
  {
   "cell_type": "code",
   "execution_count": null,
   "id": "a07228fb-a085-459b-87e6-d5ce673119d5",
   "metadata": {},
   "outputs": [],
   "source": [
    "fish_data = [[l, h] for l, h in zip(length, height)]"
   ]
  },
  {
   "cell_type": "code",
   "execution_count": null,
   "id": "4542fb54-c98b-4482-ad58-c2cb3001b588",
   "metadata": {},
   "outputs": [],
   "source": [
    "from sklearn.neighbors import KNeighborsClassifier  ###########"
   ]
  },
  {
   "cell_type": "code",
   "execution_count": null,
   "id": "79a9ca3a-c82e-4f00-a31a-145fa4e367f1",
   "metadata": {},
   "outputs": [],
   "source": [
    "kn = KNeighborsClassifier()"
   ]
  },
  {
   "cell_type": "code",
   "execution_count": null,
   "id": "d7769bed-f7c4-4969-b855-0355d35c2d22",
   "metadata": {},
   "outputs": [],
   "source": [
    "kn.fit(fish_data, fish_target)"
   ]
  },
  {
   "cell_type": "code",
   "execution_count": null,
   "id": "3e10b723-24d4-4244-9aa9-960b4d2e3f59",
   "metadata": {},
   "outputs": [],
   "source": [
    "kn.score(fish_data, fish_target)"
   ]
  },
  {
   "cell_type": "code",
   "execution_count": null,
   "id": "3bf6f4fd-2fcf-4ad0-aa27-898efee7b00e",
   "metadata": {},
   "outputs": [],
   "source": [
    "kn.predict_proba([[30, 60]])\n"
   ]
  },
  {
   "cell_type": "code",
   "execution_count": null,
   "id": "31ed878c-aaeb-4f4b-aee4-6c783928ad1b",
   "metadata": {},
   "outputs": [],
   "source": [
    "kn32 = KNeighborsClassifier(n_neighbors=32)"
   ]
  },
  {
   "cell_type": "code",
   "execution_count": null,
   "id": "031e7971-8e00-4a82-8427-4088bc829936",
   "metadata": {},
   "outputs": [],
   "source": [
    "kn32.fit(fish_data, fish_target)\n",
    "kn32.score(fish_data, fish_target)"
   ]
  },
  {
   "cell_type": "code",
   "execution_count": null,
   "id": "5cb83e75-4659-49de-8971-08a0bea4f1aa",
   "metadata": {},
   "outputs": [],
   "source": []
  },
  {
   "cell_type": "code",
   "execution_count": null,
   "id": "b2f4db81-a1c6-44b1-a96a-69d53cce8d29",
   "metadata": {},
   "outputs": [],
   "source": [
    "# 훈련세트와 데이터세트"
   ]
  },
  {
   "cell_type": "code",
   "execution_count": null,
   "id": "815cb4a2-1e47-41ae-b00b-787f5209e88c",
   "metadata": {},
   "outputs": [],
   "source": [
    "import pandas as pd\n",
    "\n",
    "df = pd.read_csv('data/Fish.csv')"
   ]
  },
  {
   "cell_type": "code",
   "execution_count": null,
   "id": "442ff427-a0ef-43eb-8bc8-0cc73fda156e",
   "metadata": {},
   "outputs": [],
   "source": [
    "cond = df['Species'].isin(['Smelt', 'Bream'])\n",
    "two_df = df.loc[cond, ['Length1', 'Height']]\n",
    "fish_data = two_df.values.tolist()"
   ]
  },
  {
   "cell_type": "code",
   "execution_count": null,
   "id": "11313fc2-e763-45ce-8f22-93b931e2b7ae",
   "metadata": {},
   "outputs": [],
   "source": [
    "# 정답 작성"
   ]
  },
  {
   "cell_type": "code",
   "execution_count": null,
   "id": "cfe2a237-eaaa-46e1-9149-60c810890c63",
   "metadata": {},
   "outputs": [],
   "source": [
    "fish_target = [1] * 14 + [0] * 35"
   ]
  },
  {
   "cell_type": "code",
   "execution_count": null,
   "id": "131c2e03-b4f4-442c-be46-6ff92a3010c0",
   "metadata": {},
   "outputs": [],
   "source": [
    "# 모델 객체 만들기"
   ]
  },
  {
   "cell_type": "code",
   "execution_count": null,
   "id": "5e2db885-607a-4ed8-8bd0-4dab7ea9b0ac",
   "metadata": {},
   "outputs": [],
   "source": [
    "from sklearn.neighbors import KNeighborsClassifier\n",
    "\n",
    "### 훈련세트 train set, 데이터 세트 test set\n",
    "### 머신러닝의 정확한 평가를 위해서는 각각의 세트가 따로 준비되어야 함."
   ]
  },
  {
   "cell_type": "code",
   "execution_count": null,
   "id": "191ac874-eb36-4adf-b00e-5cd3b76ee7a0",
   "metadata": {},
   "outputs": [],
   "source": [
    "kn = KNeighborsClassifier"
   ]
  },
  {
   "cell_type": "code",
   "execution_count": null,
   "id": "b4da33d1-f5fb-437d-bf46-060c0671e094",
   "metadata": {},
   "outputs": [],
   "source": [
    "train_input = fish_data[:14]\n",
    "train_target = fish_target[:14]\n",
    "\n",
    "test_input = fish_data[14:]\n",
    "test_target = fish_target[14:]"
   ]
  },
  {
   "cell_type": "code",
   "execution_count": null,
   "id": "76c045d2-8423-4ec0-bfe7-9674671b5238",
   "metadata": {},
   "outputs": [],
   "source": [
    "kn.fit(train_input, train_target)"
   ]
  },
  {
   "cell_type": "markdown",
   "id": "fdde07aa-62df-4569-afda-50a11de6a5a5",
   "metadata": {},
   "source": [
    "## 샘플링 편향"
   ]
  },
  {
   "cell_type": "code",
   "execution_count": null,
   "id": "70fbbe92-1cfa-4278-9890-9b2d8572f596",
   "metadata": {},
   "outputs": [],
   "source": [
    "# numpy : 배열 라이브러리, 고차원 배열을 쉽게 조작하게 해줌."
   ]
  },
  {
   "cell_type": "code",
   "execution_count": null,
   "id": "c5f28af9-d8ac-43f5-87e2-df55463dcae9",
   "metadata": {},
   "outputs": [],
   "source": [
    "# 파이썬 리스트를 넘파일 배열로 바꾸기\n",
    "import numpy as np\n",
    "\n",
    "input_arr = np.array(fish_data)\n",
    "target_arr = np.array(fish_data)"
   ]
  },
  {
   "cell_type": "code",
   "execution_count": null,
   "id": "02e6bdfc-6b3b-4fab-a65e-ddd3907d4bfc",
   "metadata": {},
   "outputs": [],
   "source": [
    "input_arr.shape"
   ]
  },
  {
   "cell_type": "code",
   "execution_count": null,
   "id": "674768a3-fb17-4ea5-b336-db9e400d8a95",
   "metadata": {},
   "outputs": [],
   "source": [
    "np.random.seed(40) # 랜덤 인덱스 생성\n",
    "index = np.arange(49) # 인덱스 랜덤하게 만들기\n",
    "np.random.shuffle(index) # 인덱스 배열을 무작위로 섞기\n",
    "print(index)"
   ]
  },
  {
   "cell_type": "code",
   "execution_count": null,
   "id": "2464a2d2-2786-49e7-8f9c-b9fbcace633c",
   "metadata": {},
   "outputs": [],
   "source": [
    "input_arr[[10, 5]]  # 배열의 11번째와 6번째 샘플 출력"
   ]
  },
  {
   "cell_type": "code",
   "execution_count": null,
   "id": "0aae84bb-4166-453f-b7bd-eb30214ca5b6",
   "metadata": {},
   "outputs": [],
   "source": [
    "# 랜덤하게 35개의 샘플 훈련세트 만들기"
   ]
  },
  {
   "cell_type": "code",
   "execution_count": null,
   "id": "7191bf7c-f291-454e-9749-965c26a546de",
   "metadata": {},
   "outputs": [],
   "source": [
    "train_input = input_arr[index[:35]]\n",
    "train_target = target_arr[index[:35]]"
   ]
  },
  {
   "cell_type": "code",
   "execution_count": null,
   "id": "b53b50d3-06ff-4443-be14-ff34fdba1612",
   "metadata": {},
   "outputs": [],
   "source": [
    "print(input_arr[13], train_input[0])"
   ]
  },
  {
   "cell_type": "code",
   "execution_count": null,
   "id": "9bf0ced2-a28c-434d-8746-70e033f43fc4",
   "metadata": {},
   "outputs": [],
   "source": [
    "import matplotlib.pyplot as plt\n",
    "\n",
    "plt.scatter(train_input[:,0], train_input[:,1])\n",
    "plt.scatter(test_input[:,0], test_input[:,1])"
   ]
  },
  {
   "cell_type": "code",
   "execution_count": null,
   "id": "3e4aee99-2059-4849-997f-c61212514e85",
   "metadata": {},
   "outputs": [],
   "source": [
    "# 두번째 머신러닝 프로그램\n",
    "kn.fit(train_input, train_target)"
   ]
  },
  {
   "cell_type": "code",
   "execution_count": null,
   "id": "4a722dde-5e41-4608-9c13-e36674116485",
   "metadata": {},
   "outputs": [],
   "source": [
    "kn.score(test_input, test_target)"
   ]
  },
  {
   "cell_type": "code",
   "execution_count": null,
   "id": "a8ea496c-d090-4112-9e7e-3fe8fb641a76",
   "metadata": {},
   "outputs": [],
   "source": [
    "kn.predict_proba(test_input)"
   ]
  },
  {
   "cell_type": "code",
   "execution_count": null,
   "id": "2c5b015c-f943-4b08-928f-48064a203446",
   "metadata": {},
   "outputs": [],
   "source": []
  },
  {
   "cell_type": "markdown",
   "id": "3e5b5b58-990f-4bc0-a093-37bccd646b3c",
   "metadata": {},
   "source": [
    "## iris 데이터"
   ]
  },
  {
   "cell_type": "code",
   "execution_count": null,
   "id": "96b8f56f-5894-481c-8264-2daf5fa36b18",
   "metadata": {},
   "outputs": [],
   "source": [
    "import seaborn as sns\n",
    "\n",
    "df = sns.load_dataset('iris')\n",
    "df"
   ]
  },
  {
   "cell_type": "code",
   "execution_count": null,
   "id": "5d8b7e5f-c853-40bf-9ad5-3b7636a21e68",
   "metadata": {},
   "outputs": [],
   "source": [
    "cond = df['species'].isin(['setosa', 'virginica'])\n",
    "iris_df = df.loc[cond, ['petal_length', 'petal_width']]\n",
    "iris_data = iris_df.values.tolist()"
   ]
  },
  {
   "cell_type": "code",
   "execution_count": null,
   "id": "1e36fa62-5c3b-471c-9ec2-8ef1c123b893",
   "metadata": {},
   "outputs": [],
   "source": [
    "setosa_df = df.loc[df['species'] == 'setosa'].shape[0]\n",
    "virginica_df = df.loc[df['species'] == 'virginica'].shape[0]"
   ]
  },
  {
   "cell_type": "code",
   "execution_count": null,
   "id": "9b7cfa9e-c438-4fca-bca8-f8694ec4343b",
   "metadata": {},
   "outputs": [],
   "source": [
    "import numpy as np\n",
    "\n",
    "# 정답 작성\n",
    "iris_target = np.array([1] * setosa_df + [0] * virginica_df)"
   ]
  },
  {
   "cell_type": "code",
   "execution_count": null,
   "id": "57e678b3-283b-42cc-8bf9-11404759846c",
   "metadata": {},
   "outputs": [],
   "source": [
    "#랜덤하게 만들기\n",
    "import random\n",
    "\n",
    "index = list(range(setosa_df + virginica_df))\n",
    "random.shuffle(index)"
   ]
  },
  {
   "cell_type": "code",
   "execution_count": null,
   "id": "b18b69e3-b208-463a-833b-ed080c0f33f4",
   "metadata": {},
   "outputs": [],
   "source": [
    "# 샘플 랜덤 훈련세트 만들기"
   ]
  },
  {
   "cell_type": "code",
   "execution_count": null,
   "id": "511f9a67-d6b7-4b29-ab66-057967c10f51",
   "metadata": {},
   "outputs": [],
   "source": [
    "train_input = iris_data[index[:70]] \n",
    "train_target = iris_target[index[:70]]\n",
    "\n",
    "test_input = iris_data[index[:70]]\n",
    "test_target = iris_target[index[:70]]"
   ]
  },
  {
   "cell_type": "code",
   "execution_count": null,
   "id": "fd89aa00-9dd3-49e5-bc51-c0717a3196a2",
   "metadata": {},
   "outputs": [],
   "source": []
  },
  {
   "cell_type": "markdown",
   "id": "7ce5ba33-cda0-478e-bee9-8c858e1399c7",
   "metadata": {},
   "source": [
    "## 데이터 전처리\n",
    "- 특성값을 일정한 기준으로 맞추는 작업"
   ]
  },
  {
   "cell_type": "markdown",
   "id": "b73a00e6-d751-4d0c-a7aa-47fe3d7f435c",
   "metadata": {},
   "source": [
    "## 회귀\n",
    "- 클래스 중 하나로 임의의 어떤 숫자를 예측하는 것\n",
    "- ex) 내년 경제 성장률을 예측하는 것"
   ]
  },
  {
   "cell_type": "code",
   "execution_count": 1,
   "id": "c6db3496-c5f4-4048-aa38-6c21bfbde6fe",
   "metadata": {},
   "outputs": [
    {
     "ename": "SyntaxError",
     "evalue": "invalid syntax (3018683622.py, line 1)",
     "output_type": "error",
     "traceback": [
      "\u001b[1;36m  Cell \u001b[1;32mIn[1], line 1\u001b[1;36m\u001b[0m\n\u001b[1;33m    .predict(test_input)  -> 테스트 세트에 대한 예측\u001b[0m\n\u001b[1;37m    ^\u001b[0m\n\u001b[1;31mSyntaxError\u001b[0m\u001b[1;31m:\u001b[0m invalid syntax\n"
     ]
    }
   ],
   "source": [
    ".predict(test_input)  -> 테스트 세트에 대한 예측\n",
    "\n",
    "= mean_absolute_error(test_target, test_prediction)\n",
    "테스트 세트에 대한 평균 절댓값 오차를 계산.\n",
    "\n",
    "k-최근접 이웃\n",
    ".n_neighbors = 3\n",
    "설정 후 다시 모델 훈련\n",
    ".fit(train_input, train_target)\n",
    "print(.score(train_input, train_target))\n",
    "k값을 줄이고 점수가 높아짐 확인. 테스트 점수 확인\n",
    "print(.score(test_input, test_target))\n",
    "\n"
   ]
  },
  {
   "cell_type": "code",
   "execution_count": null,
   "id": "fc754957-53db-485d-86bb-96340b3f7d8b",
   "metadata": {},
   "outputs": [],
   "source": [
    "k-최근접이웃의 한계(위에 .n_neighbors 사용한것)\n",
    "ex) \n",
    "-> 데이터를 훈련/테스트 세트로 나눈다.\n",
    "from sklearn.model_selection import train_test_split\n",
    "train_input, test_input, train_target, test_target= \\\n",
    "train_test_split(data, target)\n",
    "-> 두 세트를 2차원 배열로 바꾼다.\n",
    "train_input = train_input.reshape(-1, 1)\n",
    "test_input = test_input.reshape(-1, 1)\n",
    "\n",
    "----> k-최근접이웃의 한계는 새로운 샘플이 등장하면 엉뚱한 값을 도출.\n",
    "\n",
    "-선형회귀\n",
    "1. 선형회귀 모델을 훈련하고---> .fit(train)\n",
    "2. 대상에 대해 예측한다.\n",
    "from sklearn.linear_model import LinearRegression\n",
    "lr = LinearRegression\n",
    "\n",
    "lr.fit(train_input, train_target)\n",
    "print(lr.predict([['대상']]))\n",
    "\n",
    "3. 하나의 직선을 그리기 위해서는 기울기와 절편이 있어야 하는데,\n",
    "이것이 lr.coef_ 와 lr.intercept_ 이다.\n",
    "\n",
    "print(lr.coef_, lr.intercetp)\n",
    "\n",
    "\n",
    "-다향회귀\n",
    "최적의 직선을 찾는 선형회귀와 다르게 최적의 곡선을 찾는다.\n",
    "방법은 column_stack()함수를 사용, 제곱해서 원래 데이터 앞에 붙이면 된다.\n",
    "np.column_stack((train_input ** 2, train_input))\n",
    "np.column_stack((test_input ** 2, test_input))\n",
    "그리고 이것들을 _poly라는 변수로 지정한다.\n",
    "train_poly = np.column_stack((train_input ** 2, train_input))\n",
    "test_poly = np.column_stack((test_input ** 2, test_input))\n",
    "\n",
    "데이터셋의 크기 확인하기\n",
    "print(train_poly.shape, test_poly.shape)\n",
    "\n",
    "여기서 다시 선형 회귀 모델을 재훈련할때, 타킷값을 재설정할 필요가 없다.\n",
    "\n",
    "lr = LinearRegression()\n",
    "lr.fit(train_poly, train_target)\n",
    "print(lr.predict([['범위' **2, '범위']]))\n",
    "\n",
    "마지막으로 기울기와 절편 재확인하기\n",
    "print(lr.coef_, lr.intercept_)\n"
   ]
  }
 ],
 "metadata": {
  "kernelspec": {
   "display_name": "Python 3 (ipykernel)",
   "language": "python",
   "name": "python3"
  },
  "language_info": {
   "codemirror_mode": {
    "name": "ipython",
    "version": 3
   },
   "file_extension": ".py",
   "mimetype": "text/x-python",
   "name": "python",
   "nbconvert_exporter": "python",
   "pygments_lexer": "ipython3",
   "version": "3.13.2"
  }
 },
 "nbformat": 4,
 "nbformat_minor": 5
}
