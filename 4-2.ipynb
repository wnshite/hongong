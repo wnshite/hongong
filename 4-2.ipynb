{
 "cells": [
  {
   "cell_type": "markdown",
   "id": "84850573-cc63-47ae-a0a5-021761204f7b",
   "metadata": {},
   "source": [
    "## 확률적 경사 하강법"
   ]
  },
  {
   "cell_type": "code",
   "execution_count": 1,
   "id": "523e7ce9-d0df-48aa-9de7-2c35946f3d83",
   "metadata": {},
   "outputs": [],
   "source": [
    "# 확률적 = 랜덤하다"
   ]
  },
  {
   "cell_type": "markdown",
   "id": "9c92e1fd-c774-4707-bc8b-29713c809c0a",
   "metadata": {},
   "source": [
    "### 손실함수\n",
    "- 실패율\n",
    "- 머신러닝 알고리즘이 얼마나 엉터리인지를 측정하는 기준.\n",
    "- 수치가 높으면 안 좋고, 수치가 낮으면 좋다."
   ]
  },
  {
   "cell_type": "code",
   "execution_count": 2,
   "id": "d3fb12e8-13e3-4179-915e-605c0ac8ba28",
   "metadata": {},
   "outputs": [],
   "source": [
    "import pandas as pd\n",
    "\n",
    "df = pd.read_csv('data/Fish.csv')"
   ]
  },
  {
   "cell_type": "code",
   "execution_count": 10,
   "id": "16e04222-44b0-43fb-b17a-c017c5c49c7d",
   "metadata": {},
   "outputs": [],
   "source": [
    "fish_input = df[['Weight', 'Length2', 'Length3', 'Height', 'Width']]   # 데이터 불러오기\n",
    "fish_target = df[['Species']]"
   ]
  },
  {
   "cell_type": "code",
   "execution_count": 11,
   "id": "00d3863f-8c06-4fab-88cf-3cf80a6cc075",
   "metadata": {},
   "outputs": [],
   "source": [
    "from sklearn.model_selection import train_test_split  # split 시켜주기\n",
    "\n",
    "train_input, test_input, train_target, test_target = \\\n",
    "train_test_split(fish_input, fish_target)"
   ]
  },
  {
   "cell_type": "code",
   "execution_count": 59,
   "id": "31651eb3-187d-44bb-89f5-850246b54d32",
   "metadata": {},
   "outputs": [],
   "source": [
    "from sklearn.preprocessing import StandardScaler   # 데이터 전처리\n",
    "\n",
    "ss = StandardScaler()\n",
    "ss.fit(train_input)\n",
    "train_scaled = ss.transform(train_input)\n",
    "test_scaled = ss.transform(test_input)"
   ]
  },
  {
   "cell_type": "code",
   "execution_count": 60,
   "id": "fb90d0f5-bf64-485e-8923-925506d54e4c",
   "metadata": {},
   "outputs": [
    {
     "name": "stdout",
     "output_type": "stream",
     "text": [
      "0.8067226890756303\n",
      "0.9\n"
     ]
    },
    {
     "name": "stderr",
     "output_type": "stream",
     "text": [
      "C:\\Users\\1-01\\Desktop\\DAMF2\\ml\\venv\\Lib\\site-packages\\sklearn\\utils\\validation.py:1408: DataConversionWarning: A column-vector y was passed when a 1d array was expected. Please change the shape of y to (n_samples, ), for example using ravel().\n",
      "  y = column_or_1d(y, warn=True)\n"
     ]
    }
   ],
   "source": [
    "from sklearn.linear_model import SGDClassifier  # 모델 학습시키기\n",
    "\n",
    "sc = SGDClassifier(loss='hinge', max_iter=100)\n",
    "sc.fit(train_scaled, train_target)\n",
    "\n",
    "print(sc.score(train_scaled, train_target))\n",
    "print(sc.score(test_scaled, test_target))"
   ]
  },
  {
   "cell_type": "markdown",
   "id": "b2f5d187-08c8-45e7-8cb7-772b8fb8a52e",
   "metadata": {},
   "source": [
    "### 에포크"
   ]
  },
  {
   "cell_type": "code",
   "execution_count": 58,
   "id": "07538bff-fe82-40d6-9d02-0c6ddb94fab1",
   "metadata": {},
   "outputs": [
    {
     "name": "stdout",
     "output_type": "stream",
     "text": [
      "0.7815126050420168\n",
      "0.875\n"
     ]
    },
    {
     "name": "stderr",
     "output_type": "stream",
     "text": [
      "C:\\Users\\1-01\\Desktop\\DAMF2\\ml\\venv\\Lib\\site-packages\\sklearn\\utils\\validation.py:1408: DataConversionWarning: A column-vector y was passed when a 1d array was expected. Please change the shape of y to (n_samples, ), for example using ravel().\n",
      "  y = column_or_1d(y, warn=True)\n"
     ]
    }
   ],
   "source": [
    "sc.partial_fit(train_scaled, train_target)\n",
    "print(sc.score(train_scaled, train_target))\n",
    "print(sc.score(test_scaled, test_target))"
   ]
  },
  {
   "cell_type": "code",
   "execution_count": null,
   "id": "9797acdf-fbea-4c88-a4d8-eefa1c48cc9f",
   "metadata": {},
   "outputs": [],
   "source": []
  }
 ],
 "metadata": {
  "kernelspec": {
   "display_name": "Python 3 (ipykernel)",
   "language": "python",
   "name": "python3"
  },
  "language_info": {
   "codemirror_mode": {
    "name": "ipython",
    "version": 3
   },
   "file_extension": ".py",
   "mimetype": "text/x-python",
   "name": "python",
   "nbconvert_exporter": "python",
   "pygments_lexer": "ipython3",
   "version": "3.13.2"
  }
 },
 "nbformat": 4,
 "nbformat_minor": 5
}
