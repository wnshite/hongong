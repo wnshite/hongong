{
 "cells": [
  {
   "cell_type": "code",
   "execution_count": null,
   "id": "07eb3c91-c65b-438c-98dc-bcac6e2b6a11",
   "metadata": {},
   "outputs": [],
   "source": [
    "import seaborn as sns\n",
    "\n",
    "df = sns.load_dataset('penguins')\n",
    "df.tail()"
   ]
  },
  {
   "cell_type": "code",
   "execution_count": null,
   "id": "b3323508-d2b5-438f-9815-f0139a15d926",
   "metadata": {},
   "outputs": [],
   "source": [
    "cond = df['species'].isin(['Adelie', 'Gentoo'])\n",
    "penguins_df = df.loc[cond, ['bill_length_mm', 'bill_depth_mm']]\n",
    "penguins_data = penguins_df.values"
   ]
  },
  {
   "cell_type": "code",
   "execution_count": null,
   "id": "f0219e88-2b06-4dc7-a3a0-915cfbbdcfa7",
   "metadata": {},
   "outputs": [],
   "source": [
    "Adelie_count = penguins.loc[penguins['species'] == 'Adelie'].shape[0]\n",
    "Gentoo_count = penguins.loc[penguins['species'] == 'Gentoo'].shape[0]"
   ]
  },
  {
   "cell_type": "code",
   "execution_count": null,
   "id": "2532941d-435f-43e7-b7da-782b156c2447",
   "metadata": {},
   "outputs": [],
   "source": []
  },
  {
   "cell_type": "code",
   "execution_count": null,
   "id": "6041977a-2ccd-4406-bd0a-3301f8adec52",
   "metadata": {},
   "outputs": [],
   "source": [
    "# 3/4일 복습"
   ]
  },
  {
   "cell_type": "code",
   "execution_count": null,
   "id": "d8b0cb48-7537-43d3-bb88-eea48d9d9002",
   "metadata": {},
   "outputs": [],
   "source": [
    "# 선형회귀, 다중회귀"
   ]
  },
  {
   "cell_type": "code",
   "execution_count": null,
   "id": "53779a77-da57-4977-8cb4-9f74e2809f24",
   "metadata": {},
   "outputs": [],
   "source": [
    "import numpy as np\n",
    "import matplotlib.pyplot as plt\n",
    "import sklearn.linear_model as LinearRegression\n",
    "\n",
    "\n",
    "l = \n",
    "km/l = \n",
    "\n"
   ]
  },
  {
   "cell_type": "code",
   "execution_count": null,
   "id": "41e105f9-eece-4e87-bcea-ca730c3c34cf",
   "metadata": {},
   "outputs": [],
   "source": [
    "# 3/5 복습"
   ]
  },
  {
   "cell_type": "code",
   "execution_count": null,
   "id": "eb8baf1e-290e-439f-9dc7-dcb7b176343a",
   "metadata": {},
   "outputs": [],
   "source": [
    "import pandas as pd\n",
    "\n",
    "df = pd.read_csv('data/Fish.csv')\n",
    "#df"
   ]
  },
  {
   "cell_type": "code",
   "execution_count": null,
   "id": "0dcfa3b5-8602-4b86-a733-1f6d1f1c097c",
   "metadata": {},
   "outputs": [],
   "source": [
    "fish_input = df[[]]"
   ]
  },
  {
   "cell_type": "code",
   "execution_count": null,
   "id": "fa05060a-ddf6-49e3-98a1-894f287ea5f0",
   "metadata": {},
   "outputs": [],
   "source": [
    "fish_target = df[species]]\n"
   ]
  },
  {
   "cell_type": "code",
   "execution_count": null,
   "id": "ed9e75d7-0b24-4103-9046-a41b2c4fcff6",
   "metadata": {},
   "outputs": [],
   "source": [
    "from sklearn.model_selection import train_test_split\n",
    "from sklearn.preprocessing import StandardScaler\n",
    "from sklearn.linear_model import SGDClassifier"
   ]
  },
  {
   "cell_type": "code",
   "execution_count": null,
   "id": "c2d1c91a-f108-481a-bc41-0b858bb1271a",
   "metadata": {},
   "outputs": [],
   "source": [
    "from sklearn.model_selection import train_test_split\n",
    "from sklearn.preprocessing import StandardScaler\n",
    "from sklearn.linear_model import LogisticRegression\n",
    "from sklearn.tree import DecisionTreeClassifier "
   ]
  },
  {
   "cell_type": "code",
   "execution_count": null,
   "id": "011fba4f-ce2b-4637-84e6-19b15c961e16",
   "metadata": {},
   "outputs": [],
   "source": [
    "# from sklearn.model_selection\n",
    "from sklearn.model_selection import train_test_split\n",
    "from sklearn.model_selection import cross_validate\n",
    "from sklearn.model_selection import GridSearchCV"
   ]
  },
  {
   "cell_type": "code",
   "execution_count": null,
   "id": "99e2aa9d-4d40-46b1-9483-4b87d48068d1",
   "metadata": {},
   "outputs": [],
   "source": [
    "# from sklearn.linear_model\n",
    "from sklearn.linear_model import SGDClassifier\n",
    "from sklearn.linear_model import LogisticRegression"
   ]
  },
  {
   "cell_type": "markdown",
   "id": "beef5730-49dc-4d65-9e22-5b7591b4f41d",
   "metadata": {},
   "source": [
    "### gpt 연습문제"
   ]
  },
  {
   "cell_type": "code",
   "execution_count": null,
   "id": "54482047-51ed-4115-8005-22fef9b95b7b",
   "metadata": {},
   "outputs": [],
   "source": [
    "import numpy as np"
   ]
  },
  {
   "cell_type": "code",
   "execution_count": null,
   "id": "24aeebe3-9547-491c-b660-40475d6e71d8",
   "metadata": {},
   "outputs": [],
   "source": [
    "x = np.array([[50], [60], [65], [70], [80], [90]])\n",
    "y = np.array([0, 0, 0, 1, 1, 1])"
   ]
  },
  {
   "cell_type": "code",
   "execution_count": null,
   "id": "43a66e44-d105-4701-bb17-56577df75d9d",
   "metadata": {},
   "outputs": [],
   "source": [
    "from sklearn.linear_model import LogisticRegression\n",
    "model = LogisticRegression()"
   ]
  },
  {
   "cell_type": "code",
   "execution_count": null,
   "id": "a9297dcf-f470-413c-bb86-745faefcf260",
   "metadata": {},
   "outputs": [],
   "source": [
    "model.fit(x, y)"
   ]
  },
  {
   "cell_type": "code",
   "execution_count": null,
   "id": "3740c736-44de-492b-a6ca-e62b4d6808e2",
   "metadata": {},
   "outputs": [],
   "source": [
    "model.predict_proba([[75]])[0][1]"
   ]
  },
  {
   "cell_type": "code",
   "execution_count": null,
   "id": "420acde7-86ce-4fa3-add8-99d25820f3ca",
   "metadata": {},
   "outputs": [],
   "source": [
    "## 75점인 친구가 합격 할 확률은 99.57%이다."
   ]
  },
  {
   "cell_type": "code",
   "execution_count": null,
   "id": "e654d053-70c4-42a0-abfe-8b93d3b72c73",
   "metadata": {},
   "outputs": [],
   "source": [
    "# 사이킷런의 standardscaler 클래스를 사용해서 훈련세트와 테스트 세트를 \n",
    "# 표준화 전처리 하기"
   ]
  },
  {
   "cell_type": "code",
   "execution_count": null,
   "id": "1140a9b1-26a3-4f8d-829c-14a46f8ee6a8",
   "metadata": {},
   "outputs": [],
   "source": []
  },
  {
   "cell_type": "code",
   "execution_count": 1,
   "id": "673ec031-d990-4ab3-be14-d427c8ca6b49",
   "metadata": {},
   "outputs": [],
   "source": [
    "# 표준화 전처리"
   ]
  },
  {
   "cell_type": "code",
   "execution_count": 3,
   "id": "f85896a0-6962-49cc-8e61-b4122d21b8ff",
   "metadata": {},
   "outputs": [],
   "source": [
    "# 사이킷런에서 확률적 경사 하강법을 제공하는 대표적 분류용 클래스"
   ]
  },
  {
   "cell_type": "code",
   "execution_count": null,
   "id": "1457fe6e-577a-4bd4-825d-6af96439b843",
   "metadata": {},
   "outputs": [],
   "source": [
    "from sklearn.linear_model import SGDClassifier\n",
    "\n",
    "sc = SGDClassifier(loss='hinge', max_iter=100)\n",
    "sc.fit(train_scaled, test_scaled)\n",
    "sc.score()"
   ]
  }
 ],
 "metadata": {
  "kernelspec": {
   "display_name": "Python 3 (ipykernel)",
   "language": "python",
   "name": "python3"
  },
  "language_info": {
   "codemirror_mode": {
    "name": "ipython",
    "version": 3
   },
   "file_extension": ".py",
   "mimetype": "text/x-python",
   "name": "python",
   "nbconvert_exporter": "python",
   "pygments_lexer": "ipython3",
   "version": "3.13.2"
  }
 },
 "nbformat": 4,
 "nbformat_minor": 5
}
